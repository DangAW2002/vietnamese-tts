{
 "cells": [
  {
   "cell_type": "markdown",
   "id": "2443d8cd",
   "metadata": {},
   "source": [
    "# VIVOS TTS Training Notebook\n",
    "\n",
    "Notebook này giúp huấn luyện mô hình TTS sử dụng dữ liệu VIVOS trên Google Colab với GPU."
   ]
  },
  {
   "cell_type": "markdown",
   "id": "37be414d",
   "metadata": {},
   "source": [
    "## Cài đặt và chuẩn bị môi trường\n",
    "\n",
    "Đầu tiên, clone repository từ GitHub và cài đặt các dependencies cần thiết."
   ]
  },
  {
   "cell_type": "code",
   "execution_count": null,
   "id": "481aa0aa",
   "metadata": {},
   "outputs": [],
   "source": [
    "# Kiểm tra GPU\n",
    "!nvidia-smi"
   ]
  },
  {
   "cell_type": "code",
   "execution_count": null,
   "id": "63d45685",
   "metadata": {},
   "outputs": [],
   "source": [
    "# Clone repository từ GitHub\n",
    "!git clone https://github.com/DangAW2002/vietnamese-tts.git\n",
    "%cd vietnamese-tts"
   ]
  },
  {
   "cell_type": "code",
   "execution_count": null,
   "id": "1185c53c",
   "metadata": {},
   "outputs": [],
   "source": [
    "# Cài đặt các package cần thiết\n",
    "!pip install torch torchaudio numpy==2.0.0 numba<0.58.0 scipy librosa==0.10.1 matplotlib pandas tensorboard tqdm pyyaml soundfile gdown"
   ]
  },
  {
   "cell_type": "markdown",
   "id": "824b639b",
   "metadata": {},
   "source": [
    "## Tải dữ liệu đã được xử lý\n",
    "\n",
    "Do kích thước lớn, dữ liệu VIVOS đã xử lý được lưu trữ riêng trên Google Drive. Chúng ta cần tải và giải nén trước khi sử dụng."
   ]
  },
  {
   "cell_type": "code",
   "execution_count": null,
   "id": "b7d6b6be",
   "metadata": {},
   "outputs": [],
   "source": [
    "# Tải dữ liệu đã xử lý từ Google Drive\n",
    "import os\n",
    "import gdown\n",
    "import zipfile\n",
    "from pathlib import Path\n",
    "\n",
    "# Tạo thư mục data\n",
    "os.makedirs(\"data/processed\", exist_ok=True)\n",
    "\n",
    "# Tạo script để upload dữ liệu lên Google Drive nếu chưa có\n",
    "if not os.path.exists(\"upload_data.py\"):\n",
    "    with open(\"upload_data.py\", \"w\") as f:\n",
    "        f.write(\"\"\"\n",
    "# Script này giúp upload dữ liệu đã xử lý lên Google Drive\n",
    "from google.colab import drive\n",
    "import os\n",
    "import zipfile\n",
    "\n",
    "# Mount Google Drive\n",
    "drive.mount('/content/drive')\n",
    "\n",
    "# Nén thư mục dữ liệu đã xử lý\n",
    "print(\"Đang nén dữ liệu processed...\")\n",
    "with zipfile.ZipFile('vivos_processed.zip', 'w', zipfile.ZIP_DEFLATED) as zipf:\n",
    "    for root, dirs, files in os.walk('data/processed'):\n",
    "        for file in files:\n",
    "            zipf.write(os.path.join(root, file))\n",
    "\n",
    "# Copy file nén vào Google Drive\n",
    "print(\"Đang copy dữ liệu vào Drive...\")\n",
    "os.system('cp vivos_processed.zip \"/content/drive/My Drive/\"')\n",
    "print(\"Hoàn thành! File vivos_processed.zip đã được lưu vào Drive.\")\n",
    "\"\"\")\n",
    "\n",
    "# Thông báo hướng dẫn cho người dùng\n",
    "print(\"=\"*80)\n",
    "print(\"HƯỚNG DẪN: Bạn cần upload dữ liệu VIVOS đã xử lý lên Google Drive của bạn\")\n",
    "print(\"1. Nếu bạn đã xử lý dữ liệu trên máy, hãy chạy script upload_data.py để upload lên Drive\")\n",
    "print(\"2. Sau đó lấy share link của file vivos_processed.zip từ Drive\")\n",
    "print(\"3. Cập nhật URL bên dưới với share link của bạn\")\n",
    "print(\"=\"*80)\n",
    "\n",
    "# URL của file zip chứa dữ liệu đã xử lý (cần thay thế bằng link Google Drive thật)\n",
    "url = \"PASTE_YOUR_GDRIVE_LINK_HERE\"\n",
    "\n",
    "# Hỏi người dùng có muốn tải xuống không\n",
    "download_data = input(\"Bạn đã cập nhật URL và muốn tải dữ liệu xuống? (yes/no): \")\n",
    "if download_data.lower() in [\"yes\", \"y\"]:\n",
    "    # Tải file zip\n",
    "    zip_path = \"vivos_processed.zip\"\n",
    "    print(\"Đang tải dữ liệu VIVOS đã xử lý...\")\n",
    "    gdown.download(url, zip_path, quiet=False)\n",
    "    \n",
    "    # Giải nén\n",
    "    print(\"Đang giải nén dữ liệu...\")\n",
    "    with zipfile.ZipFile(zip_path, 'r') as zip_ref:\n",
    "        zip_ref.extractall(\"data/processed\")\n",
    "    \n",
    "    # Xóa file zip\n",
    "    os.remove(zip_path)\n",
    "    print(\"Hoàn thành tải và giải nén dữ liệu!\")\n",
    "else:\n",
    "    print(\"Bỏ qua bước tải dữ liệu. Hãy đảm bảo bạn đã có dữ liệu trong thư mục data/processed.\")"
   ]
  },
  {
   "cell_type": "markdown",
   "id": "bec50558",
   "metadata": {},
   "source": [
    "## Huấn luyện mô hình\n",
    "\n",
    "Bây giờ chúng ta sẽ huấn luyện mô hình TTS sử dụng dữ liệu VIVOS đã được tiền xử lý."
   ]
  },
  {
   "cell_type": "code",
   "execution_count": null,
   "id": "2c7294c8",
   "metadata": {},
   "outputs": [],
   "source": [
    "# Kiểm tra dữ liệu đã được tải đúng cách chưa\n",
    "import os\n",
    "import glob\n",
    "\n",
    "train_files = glob.glob(\"data/processed/train/*.pt\")\n",
    "val_files = glob.glob(\"data/processed/val/*.pt\")\n",
    "test_files = glob.glob(\"data/processed/test/*.pt\")\n",
    "\n",
    "print(f\"Số file trong tập train: {len(train_files)}\")\n",
    "print(f\"Số file trong tập val: {len(val_files)}\")\n",
    "print(f\"Số file trong tập test: {len(test_files)}\")\n",
    "\n",
    "if len(train_files) == 0 or len(val_files) == 0 or len(test_files) == 0:\n",
    "    print(\"CẢNH BÁO: Không tìm thấy dữ liệu đã xử lý. Hãy quay lại bước trước để tải dữ liệu.\")"
   ]
  },
  {
   "cell_type": "code",
   "execution_count": null,
   "id": "a88230b2",
   "metadata": {},
   "outputs": [],
   "source": [
    "# Chạy script training\n",
    "# Các tham số có thể điều chỉnh:\n",
    "# --epochs: số epoch\n",
    "# --batch_size: kích thước batch\n",
    "# --lr: learning rate\n",
    "\n",
    "!python src/colab_train.py --epochs 50 --batch_size 64"
   ]
  },
  {
   "cell_type": "markdown",
   "id": "40f09f45",
   "metadata": {},
   "source": [
    "## Hiển thị quá trình huấn luyện với TensorBoard"
   ]
  },
  {
   "cell_type": "code",
   "execution_count": null,
   "id": "2f0adeac",
   "metadata": {},
   "outputs": [],
   "source": [
    "# Cài đặt TensorBoard extension\n",
    "%load_ext tensorboard\n",
    "%tensorboard --logdir=checkpoints/logs"
   ]
  },
  {
   "cell_type": "markdown",
   "id": "f4731f0f",
   "metadata": {},
   "source": [
    "## Lưu mô hình đã huấn luyện lên Google Drive\n",
    "\n",
    "Sau khi huấn luyện xong, bạn nên lưu mô hình lên Google Drive để tránh mất kết quả khi phiên Colab kết thúc."
   ]
  },
  {
   "cell_type": "code",
   "execution_count": null,
   "id": "49df2a25",
   "metadata": {},
   "outputs": [],
   "source": [
    "# Mount Google Drive để lưu mô hình\n",
    "from google.colab import drive\n",
    "drive.mount('/content/drive')\n",
    "\n",
    "# Nén thư mục checkpoints\n",
    "!zip -r checkpoints.zip checkpoints/\n",
    "\n",
    "# Copy file nén vào Google Drive\n",
    "import os\n",
    "import shutil\n",
    "\n",
    "# Tạo thư mục để lưu trữ mô hình trên Drive nếu chưa có\n",
    "os.makedirs(\"/content/drive/My Drive/vietnamese-tts-models\", exist_ok=True)\n",
    "\n",
    "# Copy file zip vào Drive\n",
    "shutil.copy(\"checkpoints.zip\", \"/content/drive/My Drive/vietnamese-tts-models/\")\n",
    "print(\"Đã lưu checkpoints.zip vào Google Drive thành công!\")"
   ]
  }
 ],
 "metadata": {
  "language_info": {
   "name": "python"
  }
 },
 "nbformat": 4,
 "nbformat_minor": 5
}
